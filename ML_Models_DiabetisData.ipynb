{
 "cells": [
  {
   "cell_type": "code",
   "execution_count": 1,
   "id": "f168d0dc-c67d-4b87-898f-fcc72f2753d8",
   "metadata": {},
   "outputs": [],
   "source": [
    "import pandas as pd\n",
    "from sklearn.model_selection import train_test_split\n",
    "from sklearn.preprocessing import StandardScaler, OneHotEncoder\n",
    "from sklearn.compose import ColumnTransformer\n",
    "from sklearn.pipeline import Pipeline\n",
    "from sklearn.metrics import classification_report, accuracy_score\n",
    "from sklearn.linear_model import LogisticRegression\n",
    "from sklearn.ensemble import RandomForestClassifier\n",
    "from sklearn.svm import SVC\n"
   ]
  },
  {
   "cell_type": "code",
   "execution_count": 5,
   "id": "9dda9100-5960-4313-8090-09ee4b715dd3",
   "metadata": {},
   "outputs": [],
   "source": [
    "# Loading preprocessed Dataset \n",
    "data = pd.read_csv('/Users/sathvikchava/my files/big data/Project files/Diabetes_Health_Indicators_cleanedData1.0.csv')\n",
    "\n",
    "# Spliting data into features and target\n",
    "X = data.drop(columns='Diabetes_binary')\n",
    "y = data['Diabetes_binary']"
   ]
  },
  {
   "cell_type": "code",
   "execution_count": 7,
   "id": "9fda6c1d-c50e-4ef3-932c-0ed010f0ce9b",
   "metadata": {},
   "outputs": [],
   "source": [
    "numerical_Features=['BMI']\n",
    "categorical_Features=X.columns.drop('BMI')"
   ]
  },
  {
   "cell_type": "code",
   "execution_count": 14,
   "id": "a70c404a-427d-40d1-a4df-16f108eccafe",
   "metadata": {},
   "outputs": [],
   "source": [
    "# Spliting data into test and train\n",
    "X_train, X_test, y_train, y_test = train_test_split(X, y, test_size=0.2, random_state=42, stratify=y)"
   ]
  },
  {
   "cell_type": "code",
   "execution_count": 16,
   "id": "24b88901-e46b-43ee-a467-9516e8822058",
   "metadata": {},
   "outputs": [],
   "source": [
    "preprocessor = ColumnTransformer(\n",
    "    transformers=[\n",
    "        ('num', StandardScaler(), numerical_Features),\n",
    "        ('cat', OneHotEncoder(drop='first'), categorical_Features)\n",
    "    ]\n",
    ")"
   ]
  },
  {
   "cell_type": "code",
   "execution_count": 18,
   "id": "941792d6-84a9-4b66-9573-90536f860043",
   "metadata": {},
   "outputs": [],
   "source": [
    "# Function to train model and evaluate each model\n",
    "def evaluate(model,model_name):\n",
    "    # creating pipeline with preprocessing and model\n",
    "    pipeline=Pipeline(\n",
    "        [\n",
    "            ('preprocessor', preprocessor),\n",
    "            ('classifier', model) \n",
    "        ]\n",
    "    )\n",
    "    # training the model\n",
    "    pipeline.fit(X_train,y_train)\n",
    "    # predictions\n",
    "    y_pred=pipeline.predict(X_test)\n",
    "    # Evaluate model and print the result\n",
    "    print(f\"---------{model_name}----------\")\n",
    "    print(f\" Accuracy:{accuracy_score(y_test, y_pred):.4f}\")\n",
    "    print(classification_report(y_test, y_pred))\n",
    "    print(\"------------------\")\n",
    "    "
   ]
  },
  {
   "cell_type": "code",
   "execution_count": 22,
   "id": "bd494a42-980a-42d2-9a1a-2bc275e2edba",
   "metadata": {},
   "outputs": [
    {
     "name": "stdout",
     "output_type": "stream",
     "text": [
      "---------Logistic Regression----------\n",
      " Accuracy:0.8636\n",
      "              precision    recall  f1-score   support\n",
      "\n",
      "           0       0.88      0.98      0.93     43667\n",
      "           1       0.54      0.16      0.24      7069\n",
      "\n",
      "    accuracy                           0.86     50736\n",
      "   macro avg       0.71      0.57      0.58     50736\n",
      "weighted avg       0.83      0.86      0.83     50736\n",
      "\n",
      "------------------\n"
     ]
    }
   ],
   "source": [
    "# Logistic Regression\n",
    "logistic_reg_model=LogisticRegression(random_state=42)\n",
    "evaluate(logistic_reg_model, \"Logistic Regression\")"
   ]
  },
  {
   "cell_type": "code",
   "execution_count": 24,
   "id": "1c5fa64a-0ebc-404d-84f8-7602fbc6c113",
   "metadata": {},
   "outputs": [
    {
     "name": "stdout",
     "output_type": "stream",
     "text": [
      "---------Random Forest----------\n",
      " Accuracy:0.8583\n",
      "              precision    recall  f1-score   support\n",
      "\n",
      "           0       0.88      0.97      0.92     43667\n",
      "           1       0.47      0.16      0.24      7069\n",
      "\n",
      "    accuracy                           0.86     50736\n",
      "   macro avg       0.68      0.56      0.58     50736\n",
      "weighted avg       0.82      0.86      0.83     50736\n",
      "\n",
      "------------------\n"
     ]
    }
   ],
   "source": [
    "# Random Forest\n",
    "random_forest_model=RandomForestClassifier(random_state=42)\n",
    "evaluate(random_forest_model,\"Random Forest\")"
   ]
  },
  {
   "cell_type": "code",
   "execution_count": 26,
   "id": "071b8a0e-014d-4efc-a42f-9e87e45c49f7",
   "metadata": {},
   "outputs": [],
   "source": [
    "from sklearn.ensemble import AdaBoostClassifier"
   ]
  },
  {
   "cell_type": "code",
   "execution_count": 30,
   "id": "30427f87-db66-46c8-a071-3b1c158145c4",
   "metadata": {},
   "outputs": [
    {
     "name": "stderr",
     "output_type": "stream",
     "text": [
      "/Applications/anaconda3/lib/python3.12/site-packages/sklearn/ensemble/_weight_boosting.py:519: FutureWarning: The SAMME.R algorithm (the default) is deprecated and will be removed in 1.6. Use the SAMME algorithm to circumvent this warning.\n",
      "  warnings.warn(\n"
     ]
    },
    {
     "name": "stdout",
     "output_type": "stream",
     "text": [
      "---------AdaBoost----------\n",
      " Accuracy:0.8621\n",
      "              precision    recall  f1-score   support\n",
      "\n",
      "           0       0.88      0.97      0.92     43667\n",
      "           1       0.51      0.20      0.28      7069\n",
      "\n",
      "    accuracy                           0.86     50736\n",
      "   macro avg       0.70      0.58      0.60     50736\n",
      "weighted avg       0.83      0.86      0.83     50736\n",
      "\n",
      "------------------\n"
     ]
    }
   ],
   "source": [
    "adaboost_model=AdaBoostClassifier(random_state=42)\n",
    "evaluate(adaboost_model,\"AdaBoost\")"
   ]
  },
  {
   "cell_type": "code",
   "execution_count": 42,
   "id": "84dad127-cae4-4977-ad09-39ecb9a17082",
   "metadata": {},
   "outputs": [],
   "source": [
    "# using cross validaiton\n",
    "from sklearn.model_selection import StratifiedKFold, cross_val_score\n",
    "# Function to train model and evaluate each model ( using cross-validation)\n",
    "def evaluate_cv(model,model_name,X,y):\n",
    "    pipeline=Pipeline(\n",
    "        [\n",
    "            ('preprocessor', preprocessor),\n",
    "            ('classifier', model)\n",
    "        ]\n",
    "    )\n",
    "\n",
    "    # K-fold cross validation\n",
    "    kf=StratifiedKFold(n_splits=5, shuffle=True, random_state=42)\n",
    "    cv_score = cross_val_score(pipeline, X, y, cv=kf, scoring='accuracy')\n",
    "    # Output results\n",
    "    print(f\"---------- {model_name} ------------\")\n",
    "    print(f\"Mean Accuracy: {cv_score.mean():.4f}\")\n",
    "    print(f\"Standard Deviation: {cv_score.std():.4f}\")\n",
    "    print(\"---------------------------------------\")\n",
    "    "
   ]
  },
  {
   "cell_type": "code",
   "execution_count": 44,
   "id": "adfe46b7-5839-4f91-8a07-1c11a2ce2467",
   "metadata": {},
   "outputs": [
    {
     "name": "stdout",
     "output_type": "stream",
     "text": [
      "---------- Logistic Regression ------------\n",
      "Mean Accuracy: 0.8651\n",
      "Standard Deviation: 0.0006\n",
      "---------------------------------------\n"
     ]
    }
   ],
   "source": [
    "# Logistic Regression Model with Cross validaiton\n",
    "evaluate_cv(logistic_reg_model, \"Logistic Regression\", X, y)"
   ]
  },
  {
   "cell_type": "code",
   "execution_count": 46,
   "id": "1aac9ac6-8c94-467f-8ee2-ac6ca1953d82",
   "metadata": {},
   "outputs": [
    {
     "name": "stdout",
     "output_type": "stream",
     "text": [
      "---------- Random Forest ------------\n",
      "Mean Accuracy: 0.8594\n",
      "Standard Deviation: 0.0007\n",
      "---------------------------------------\n"
     ]
    }
   ],
   "source": [
    "# Random Forest Model with Cross validaiton\n",
    "evaluate_cv(random_forest_model, \"Random Forest\", X, y)"
   ]
  },
  {
   "cell_type": "code",
   "execution_count": 50,
   "id": "7d027dcb-ea69-445d-bdf7-f5f89bedd4e7",
   "metadata": {},
   "outputs": [
    {
     "name": "stderr",
     "output_type": "stream",
     "text": [
      "/Applications/anaconda3/lib/python3.12/site-packages/sklearn/ensemble/_weight_boosting.py:519: FutureWarning: The SAMME.R algorithm (the default) is deprecated and will be removed in 1.6. Use the SAMME algorithm to circumvent this warning.\n",
      "  warnings.warn(\n",
      "/Applications/anaconda3/lib/python3.12/site-packages/sklearn/ensemble/_weight_boosting.py:519: FutureWarning: The SAMME.R algorithm (the default) is deprecated and will be removed in 1.6. Use the SAMME algorithm to circumvent this warning.\n",
      "  warnings.warn(\n",
      "/Applications/anaconda3/lib/python3.12/site-packages/sklearn/ensemble/_weight_boosting.py:519: FutureWarning: The SAMME.R algorithm (the default) is deprecated and will be removed in 1.6. Use the SAMME algorithm to circumvent this warning.\n",
      "  warnings.warn(\n",
      "/Applications/anaconda3/lib/python3.12/site-packages/sklearn/ensemble/_weight_boosting.py:519: FutureWarning: The SAMME.R algorithm (the default) is deprecated and will be removed in 1.6. Use the SAMME algorithm to circumvent this warning.\n",
      "  warnings.warn(\n",
      "/Applications/anaconda3/lib/python3.12/site-packages/sklearn/ensemble/_weight_boosting.py:519: FutureWarning: The SAMME.R algorithm (the default) is deprecated and will be removed in 1.6. Use the SAMME algorithm to circumvent this warning.\n",
      "  warnings.warn(\n"
     ]
    },
    {
     "name": "stdout",
     "output_type": "stream",
     "text": [
      "---------- AdaBoost ------------\n",
      "Mean Accuracy: 0.8644\n",
      "Standard Deviation: 0.0002\n",
      "---------------------------------------\n"
     ]
    }
   ],
   "source": [
    "# AdaBoost with Cross validaiton\n",
    "evaluate_cv(adaboost_model, \"AdaBoost\", X, y)"
   ]
  },
  {
   "cell_type": "code",
   "execution_count": null,
   "id": "d1e575e0-8e38-4867-a5e6-f76ef1ca87a5",
   "metadata": {},
   "outputs": [],
   "source": []
  }
 ],
 "metadata": {
  "kernelspec": {
   "display_name": "Python 3 (ipykernel)",
   "language": "python",
   "name": "python3"
  },
  "language_info": {
   "codemirror_mode": {
    "name": "ipython",
    "version": 3
   },
   "file_extension": ".py",
   "mimetype": "text/x-python",
   "name": "python",
   "nbconvert_exporter": "python",
   "pygments_lexer": "ipython3",
   "version": "3.12.4"
  }
 },
 "nbformat": 4,
 "nbformat_minor": 5
}
